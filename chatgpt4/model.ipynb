{
 "cells": [
  {
   "attachments": {},
   "cell_type": "markdown",
   "metadata": {},
   "source": [
    "# Copy text"
   ]
  },
  {
   "cell_type": "markdown",
   "metadata": {},
   "source": [
    "## Setup"
   ]
  },
  {
   "cell_type": "code",
   "execution_count": 1,
   "metadata": {},
   "outputs": [],
   "source": [
    "import openai\n",
    "from key import *\n",
    "\n",
    "openai.api_key = OPENAI_API_KEY"
   ]
  },
  {
   "cell_type": "markdown",
   "metadata": {},
   "source": [
    "## API call"
   ]
  },
  {
   "attachments": {},
   "cell_type": "markdown",
   "metadata": {},
   "source": [
    "Write a creative ad for the following product to run on Facebook aimed at parents:\n",
    "\n",
    "- Product: Learning Room is a virtual environment to help students from kindergarten to high school excel in school."
   ]
  },
  {
   "cell_type": "code",
   "execution_count": 2,
   "metadata": {},
   "outputs": [],
   "source": [
    "\n",
    "response = openai.Completion.create(\n",
    "  model=\"gpt-4\",\n",
    "  prompt=\"Write a creative ad for the following product to run on Facebook aimed at parents:\\n\\nProduct: Learning Room is a virtual environment to help students from kindergarten to high school excel in school.\",\n",
    "  temperature=0.5,\n",
    "  max_tokens=50\n",
    ")"
   ]
  },
  {
   "cell_type": "code",
   "execution_count": 3,
   "metadata": {},
   "outputs": [
    {
     "data": {
      "text/plain": [
       "<OpenAIObject text_completion id=cmpl-6XFho5rPgP9i5a5sBpPHxoBVnIgzl at 0x10f74fa60> JSON: {\n",
       "  \"choices\": [\n",
       "    {\n",
       "      \"finish_reason\": \"stop\",\n",
       "      \"index\": 0,\n",
       "      \"logprobs\": null,\n",
       "      \"text\": \"\\n\\nAre you looking for an easy way to help your student excel in school? Look no further than Learning Room! Our virtual environment is designed to help students from kindergarten to high school reach their academic goals. With interactive lessons, personalized learning plans, and real-time feedback, Learning Room is the perfect tool for parents who want to give their children the best chance for success. Try Learning Room today and give your student the academic edge they need!\"\n",
       "    }\n",
       "  ],\n",
       "  \"created\": 1673383216,\n",
       "  \"id\": \"cmpl-6XFho5rPgP9i5a5sBpPHxoBVnIgzl\",\n",
       "  \"model\": \"text-davinci-003\",\n",
       "  \"object\": \"text_completion\",\n",
       "  \"usage\": {\n",
       "    \"completion_tokens\": 90,\n",
       "    \"prompt_tokens\": 38,\n",
       "    \"total_tokens\": 128\n",
       "  }\n",
       "}"
      ]
     },
     "execution_count": 3,
     "metadata": {},
     "output_type": "execute_result"
    }
   ],
   "source": [
    "response"
   ]
  },
  {
   "cell_type": "code",
   "execution_count": null,
   "metadata": {},
   "outputs": [],
   "source": []
  }
 ],
 "metadata": {
  "kernelspec": {
   "display_name": "openai",
   "language": "python",
   "name": "python3"
  },
  "language_info": {
   "codemirror_mode": {
    "name": "ipython",
    "version": 3
   },
   "file_extension": ".py",
   "mimetype": "text/x-python",
   "name": "python",
   "nbconvert_exporter": "python",
   "pygments_lexer": "ipython3",
   "version": "3.10.8"
  },
  "orig_nbformat": 4,
  "vscode": {
   "interpreter": {
    "hash": "fc515c2a6e7b9a92afdd979a7615d555adc794f0521afd1d90dd9304adfab63c"
   }
  }
 },
 "nbformat": 4,
 "nbformat_minor": 2
}
